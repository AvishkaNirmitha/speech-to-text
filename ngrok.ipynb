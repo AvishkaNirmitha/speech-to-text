{
  "cells": [
    {
      "cell_type": "code",
      "source": [
        "!pip install flask-cors pyngrok"
      ],
      "metadata": {
        "id": "pj_z6-1rygKa",
        "outputId": "e9e86562-07fa-4b42-c371-ef0856124b8c",
        "colab": {
          "base_uri": "https://localhost:8080/"
        }
      },
      "execution_count": 2,
      "outputs": [
        {
          "output_type": "stream",
          "name": "stdout",
          "text": [
            "Collecting flask-cors\n",
            "  Downloading Flask_Cors-5.0.0-py2.py3-none-any.whl.metadata (5.5 kB)\n",
            "Collecting pyngrok\n",
            "  Downloading pyngrok-7.2.3-py3-none-any.whl.metadata (8.7 kB)\n",
            "Requirement already satisfied: Flask>=0.9 in /usr/local/lib/python3.11/dist-packages (from flask-cors) (3.1.0)\n",
            "Requirement already satisfied: PyYAML>=5.1 in /usr/local/lib/python3.11/dist-packages (from pyngrok) (6.0.2)\n",
            "Requirement already satisfied: Werkzeug>=3.1 in /usr/local/lib/python3.11/dist-packages (from Flask>=0.9->flask-cors) (3.1.3)\n",
            "Requirement already satisfied: Jinja2>=3.1.2 in /usr/local/lib/python3.11/dist-packages (from Flask>=0.9->flask-cors) (3.1.5)\n",
            "Requirement already satisfied: itsdangerous>=2.2 in /usr/local/lib/python3.11/dist-packages (from Flask>=0.9->flask-cors) (2.2.0)\n",
            "Requirement already satisfied: click>=8.1.3 in /usr/local/lib/python3.11/dist-packages (from Flask>=0.9->flask-cors) (8.1.8)\n",
            "Requirement already satisfied: blinker>=1.9 in /usr/local/lib/python3.11/dist-packages (from Flask>=0.9->flask-cors) (1.9.0)\n",
            "Requirement already satisfied: MarkupSafe>=2.0 in /usr/local/lib/python3.11/dist-packages (from Jinja2>=3.1.2->Flask>=0.9->flask-cors) (3.0.2)\n",
            "Downloading Flask_Cors-5.0.0-py2.py3-none-any.whl (14 kB)\n",
            "Downloading pyngrok-7.2.3-py3-none-any.whl (23 kB)\n",
            "Installing collected packages: pyngrok, flask-cors\n",
            "Successfully installed flask-cors-5.0.0 pyngrok-7.2.3\n"
          ]
        }
      ]
    },
    {
      "cell_type": "code",
      "source": [
        "from pyngrok import ngrok\n",
        "!ngrok authtoken 2rvCt0O3LY1ZQFX20uFGGcG4qZW_76is4e1n5YmKH7kpfUoXm"
      ],
      "metadata": {
        "id": "-HeKV8OE6nfE",
        "outputId": "32788cfe-d1cc-4832-ee1a-dc5cce10d023",
        "colab": {
          "base_uri": "https://localhost:8080/"
        }
      },
      "execution_count": 3,
      "outputs": [
        {
          "output_type": "stream",
          "name": "stdout",
          "text": [
            "Authtoken saved to configuration file: /root/.config/ngrok/ngrok.yml\n"
          ]
        }
      ]
    },
    {
      "cell_type": "code",
      "source": [
        "from flask import Flask, jsonify, request\n",
        "from flask_cors import CORS\n",
        "import threading\n",
        "from pyngrok import ngrok\n",
        "\n",
        "app = Flask(__name__)\n",
        "CORS(app)\n",
        "\n",
        "# Sample data\n",
        "books = [\n",
        "    {\"id\": 1, \"title\": \"The Great Gatsby\", \"author\": \"F. Scott Fitzgerald\"},\n",
        "    {\"id\": 2, \"title\": \"1984\", \"author\": \"George Orwell\"}\n",
        "]\n",
        "\n",
        "@app.route('/')\n",
        "def home():\n",
        "    return \"Hello from Flask API\"\n",
        "\n",
        "@app.route('/api/books', methods=['GET'])\n",
        "def get_books():\n",
        "    return jsonify(books)\n",
        "\n",
        "@app.route('/api/books/<int:book_id>', methods=['GET'])\n",
        "def get_book(book_id):\n",
        "    book = next((book for book in books if book['id'] == book_id), None)\n",
        "    if book is None:\n",
        "        return jsonify({\"error\": \"Book not found\"}), 404\n",
        "    return jsonify(book)\n",
        "\n",
        "@app.route('/api/books', methods=['POST'])\n",
        "def create_book():\n",
        "    if not request.is_json:\n",
        "        return jsonify({\"error\": \"Content-Type must be application/json\"}), 400\n",
        "\n",
        "    data = request.get_json()\n",
        "\n",
        "    if not all(key in data for key in ['title', 'author']):\n",
        "        return jsonify({\"error\": \"Title and author are required\"}), 400\n",
        "\n",
        "    new_id = max(book['id'] for book in books) + 1\n",
        "    new_book = {\n",
        "        'id': new_id,\n",
        "        'title': data['title'],\n",
        "        'author': data['author']\n",
        "    }\n",
        "\n",
        "    books.append(new_book)\n",
        "    return jsonify(new_book), 201\n",
        "\n",
        "# Start ngrok when the app starts\n",
        "def run_ngrok():\n",
        "    public_url = ngrok.connect(5000)\n",
        "    print(f\" * Public URL: {public_url}\")\n",
        "\n",
        "if __name__ == '__main__':\n",
        "    # Install ngrok and flask-cors if you haven't already\n",
        "    # !pip install flask-cors pyngrok\n",
        "\n",
        "    # Start ngrok in a new thread\n",
        "    threading.Thread(target=run_ngrok).start()\n",
        "\n",
        "    # Run the Flask application\n",
        "    app.run(host='0.0.0.0', port=5000)"
      ],
      "metadata": {
        "id": "4yEBFsvRygd9",
        "outputId": "b6e97d2d-c29d-4e19-83b1-a703206f96db",
        "colab": {
          "base_uri": "https://localhost:8080/"
        }
      },
      "execution_count": 4,
      "outputs": [
        {
          "output_type": "stream",
          "name": "stdout",
          "text": [
            " * Serving Flask app '__main__'\n",
            " * Debug mode: off\n"
          ]
        },
        {
          "output_type": "stream",
          "name": "stderr",
          "text": [
            "INFO:werkzeug:\u001b[31m\u001b[1mWARNING: This is a development server. Do not use it in a production deployment. Use a production WSGI server instead.\u001b[0m\n",
            " * Running on all addresses (0.0.0.0)\n",
            " * Running on http://127.0.0.1:5000\n",
            " * Running on http://172.28.0.12:5000\n",
            "INFO:werkzeug:\u001b[33mPress CTRL+C to quit\u001b[0m\n"
          ]
        },
        {
          "output_type": "stream",
          "name": "stdout",
          "text": [
            " * Public URL: NgrokTunnel: \"https://a9d7-34-106-238-4.ngrok-free.app\" -> \"http://localhost:5000\"\n"
          ]
        },
        {
          "output_type": "stream",
          "name": "stderr",
          "text": [
            "INFO:werkzeug:127.0.0.1 - - [21/Jan/2025 03:37:30] \"OPTIONS /api/books HTTP/1.1\" 200 -\n",
            "INFO:werkzeug:127.0.0.1 - - [21/Jan/2025 03:37:31] \"\u001b[35m\u001b[1mPOST /api/books HTTP/1.1\u001b[0m\" 201 -\n",
            "INFO:werkzeug:127.0.0.1 - - [21/Jan/2025 03:38:48] \"\u001b[31m\u001b[1mPOST /api/books HTTP/1.1\u001b[0m\" 400 -\n",
            "INFO:werkzeug:127.0.0.1 - - [21/Jan/2025 03:39:06] \"\u001b[31m\u001b[1mPOST /api/books HTTP/1.1\u001b[0m\" 400 -\n",
            "INFO:werkzeug:127.0.0.1 - - [21/Jan/2025 03:39:55] \"\u001b[35m\u001b[1mPOST /api/books HTTP/1.1\u001b[0m\" 201 -\n"
          ]
        }
      ]
    },
    {
      "cell_type": "code",
      "source": [],
      "metadata": {
        "id": "_RC_bHb819Sh"
      },
      "execution_count": null,
      "outputs": []
    }
  ],
  "metadata": {
    "colab": {
      "name": "Welcome To Colab",
      "toc_visible": true,
      "provenance": []
    },
    "kernelspec": {
      "display_name": "Python 3",
      "name": "python3"
    }
  },
  "nbformat": 4,
  "nbformat_minor": 0
}